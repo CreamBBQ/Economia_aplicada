{
 "cells": [
  {
   "cell_type": "code",
   "execution_count": null,
   "metadata": {
    "vscode": {
     "languageId": "r"
    }
   },
   "outputs": [],
   "source": [
    "rm(list = ls())\n",
    "setwd(\"/home/creambbq/facu/TEA/minimum_wages\")\n",
    "library(\"haven\");library(\"dplyr\")\n",
    "data <- read_dta('datos.dta')\n"
   ]
  },
  {
   "cell_type": "markdown",
   "metadata": {},
   "source": [
    "Creo las variables de interés y las de separación: "
   ]
  },
  {
   "cell_type": "code",
   "execution_count": 14,
   "metadata": {
    "vscode": {
     "languageId": "r"
    }
   },
   "outputs": [],
   "source": [
    "data <- data %>% group_by(state) %>% \n",
    "  mutate(fte_before = empft + nmgrs + emppt*0.5,\n",
    "         fte_after = empft2 + nmgrs2 + emppt2*0.5, \n",
    "         wage_seg = case_when(wage_st == 4.25 ~ \"low\", \n",
    "                              wage_st >= 5 ~ \"hight\",\n",
    "                              between(wage_st,4.26, 4.99 ) ~ \"midrange\"))%>% \n",
    "  ungroup()"
   ]
  },
  {
   "cell_type": "markdown",
   "metadata": {},
   "source": [
    "Esta primera parte replica las 3 primeras filas y dos primeras columnas (notar que falta la tercera columna que es la resta de las otras dos pero no sé como sabar el desvio estándar ://) "
   ]
  },
  {
   "cell_type": "code",
   "execution_count": 3,
   "metadata": {
    "vscode": {
     "languageId": "r"
    }
   },
   "outputs": [
    {
     "data": {
      "text/html": [
       "<table class=\"dataframe\">\n",
       "<caption>A tibble: 2 × 6</caption>\n",
       "<thead>\n",
       "\t<tr><th scope=col>state</th><th scope=col>mean_before</th><th scope=col>se_mean_before</th><th scope=col>mean_after</th><th scope=col>se_mean_after</th><th scope=col>change_mean_fte</th></tr>\n",
       "\t<tr><th scope=col>&lt;chr&gt;</th><th scope=col>&lt;dbl&gt;</th><th scope=col>&lt;dbl&gt;</th><th scope=col>&lt;dbl&gt;</th><th scope=col>&lt;dbl&gt;</th><th scope=col>&lt;dbl&gt;</th></tr>\n",
       "</thead>\n",
       "<tbody>\n",
       "\t<tr><td>PA</td><td>23.33117</td><td>1.3511489</td><td>21.16558</td><td>0.9432212</td><td>-2.1655844</td></tr>\n",
       "\t<tr><td>NJ</td><td>20.43941</td><td>0.5082607</td><td>21.02743</td><td>0.5203094</td><td> 0.5880214</td></tr>\n",
       "</tbody>\n",
       "</table>\n"
      ],
      "text/latex": [
       "A tibble: 2 × 6\n",
       "\\begin{tabular}{llllll}\n",
       " state & mean\\_before & se\\_mean\\_before & mean\\_after & se\\_mean\\_after & change\\_mean\\_fte\\\\\n",
       " <chr> & <dbl> & <dbl> & <dbl> & <dbl> & <dbl>\\\\\n",
       "\\hline\n",
       "\t PA & 23.33117 & 1.3511489 & 21.16558 & 0.9432212 & -2.1655844\\\\\n",
       "\t NJ & 20.43941 & 0.5082607 & 21.02743 & 0.5203094 &  0.5880214\\\\\n",
       "\\end{tabular}\n"
      ],
      "text/markdown": [
       "\n",
       "A tibble: 2 × 6\n",
       "\n",
       "| state &lt;chr&gt; | mean_before &lt;dbl&gt; | se_mean_before &lt;dbl&gt; | mean_after &lt;dbl&gt; | se_mean_after &lt;dbl&gt; | change_mean_fte &lt;dbl&gt; |\n",
       "|---|---|---|---|---|---|\n",
       "| PA | 23.33117 | 1.3511489 | 21.16558 | 0.9432212 | -2.1655844 |\n",
       "| NJ | 20.43941 | 0.5082607 | 21.02743 | 0.5203094 |  0.5880214 |\n",
       "\n"
      ],
      "text/plain": [
       "  state mean_before se_mean_before mean_after se_mean_after change_mean_fte\n",
       "1 PA    23.33117    1.3511489      21.16558   0.9432212     -2.1655844     \n",
       "2 NJ    20.43941    0.5082607      21.02743   0.5203094      0.5880214     "
      ]
     },
     "metadata": {},
     "output_type": "display_data"
    }
   ],
   "source": [
    "first <- data %>% \n",
    "  group_by(state) %>% \n",
    "  summarise(mean_before = mean(fte_before, na.rm = TRUE),\n",
    "            mean_after = mean(fte_after, na.rm = TRUE),\n",
    "            var_before = var(fte_before, na.rm = TRUE),\n",
    "            var_after = var(fte_after, na.rm = TRUE),\n",
    "            n_before = sum(!is.na(fte_before)),\n",
    "            n_after = sum(!is.na(fte_after))) %>%\n",
    "  mutate(se_mean_before = sqrt(var_before/n_before), \n",
    "         se_mean_after = sqrt(var_after/n_after), \n",
    "         state = dplyr::recode(state, '0' = \"PA\", '1' = \"NJ\"), \n",
    "         change_mean_fte = mean_after - mean_before) %>%\n",
    "  select(state,\n",
    "         mean_before,\n",
    "         se_mean_before,\n",
    "         mean_after,\n",
    "         se_mean_after, \n",
    "         change_mean_fte)\n",
    "\n",
    "first\n"
   ]
  },
  {
   "cell_type": "markdown",
   "metadata": {},
   "source": [
    "Esta es la fila inmediatamente inferior, con el panel balanceado. Mismo problema de Desvío estándar: "
   ]
  },
  {
   "cell_type": "code",
   "execution_count": 5,
   "metadata": {
    "vscode": {
     "languageId": "r"
    }
   },
   "outputs": [
    {
     "data": {
      "text/html": [
       "<table class=\"dataframe\">\n",
       "<caption>A tibble: 2 × 2</caption>\n",
       "<thead>\n",
       "\t<tr><th scope=col>state</th><th scope=col>change_mean_fte_balanced</th></tr>\n",
       "\t<tr><th scope=col>&lt;chr&gt;</th><th scope=col>&lt;dbl&gt;</th></tr>\n",
       "</thead>\n",
       "<tbody>\n",
       "\t<tr><td>PA</td><td>-2.2833333</td></tr>\n",
       "\t<tr><td>NJ</td><td> 0.4666667</td></tr>\n",
       "</tbody>\n",
       "</table>\n"
      ],
      "text/latex": [
       "A tibble: 2 × 2\n",
       "\\begin{tabular}{ll}\n",
       " state & change\\_mean\\_fte\\_balanced\\\\\n",
       " <chr> & <dbl>\\\\\n",
       "\\hline\n",
       "\t PA & -2.2833333\\\\\n",
       "\t NJ &  0.4666667\\\\\n",
       "\\end{tabular}\n"
      ],
      "text/markdown": [
       "\n",
       "A tibble: 2 × 2\n",
       "\n",
       "| state &lt;chr&gt; | change_mean_fte_balanced &lt;dbl&gt; |\n",
       "|---|---|\n",
       "| PA | -2.2833333 |\n",
       "| NJ |  0.4666667 |\n",
       "\n"
      ],
      "text/plain": [
       "  state change_mean_fte_balanced\n",
       "1 PA    -2.2833333              \n",
       "2 NJ     0.4666667              "
      ]
     },
     "metadata": {},
     "output_type": "display_data"
    }
   ],
   "source": [
    "second <- data %>%\n",
    "  filter(complete.cases(fte_before, fte_after)) %>% #Esto balancea el panel\n",
    "  group_by(state) %>% \n",
    "  summarise(mean_before_balanced = mean(fte_before),\n",
    "            mean_after_balanced = mean(fte_after))  %>% \n",
    "  mutate(change_mean_fte_balanced = mean_after_balanced - mean_before_balanced,\n",
    "         state = dplyr::recode(state, '0' = \"PA\", '1' = \"NJ\")) %>% \n",
    "  select(state, change_mean_fte_balanced)\n",
    "\n",
    "second"
   ]
  },
  {
   "cell_type": "markdown",
   "metadata": {},
   "source": [
    "###  De acá en adelante es el conjunto de columnas \"Stores in New Jersey\""
   ]
  },
  {
   "cell_type": "markdown",
   "metadata": {},
   "source": [
    "primeras tres filas sin el desvío estándar de la última"
   ]
  },
  {
   "cell_type": "code",
   "execution_count": 8,
   "metadata": {
    "vscode": {
     "languageId": "r"
    }
   },
   "outputs": [
    {
     "data": {
      "text/html": [
       "<table class=\"dataframe\">\n",
       "<caption>A tibble: 3 × 6</caption>\n",
       "<thead>\n",
       "\t<tr><th scope=col>wage_seg</th><th scope=col>mean_before</th><th scope=col>se_mean_before</th><th scope=col>mean_after</th><th scope=col>se_mean_after</th><th scope=col>change_mean_fte</th></tr>\n",
       "\t<tr><th scope=col>&lt;chr&gt;</th><th scope=col>&lt;dbl&gt;</th><th scope=col>&lt;dbl&gt;</th><th scope=col>&lt;dbl&gt;</th><th scope=col>&lt;dbl&gt;</th><th scope=col>&lt;dbl&gt;</th></tr>\n",
       "</thead>\n",
       "<tbody>\n",
       "\t<tr><td>hight   </td><td>22.25000</td><td>1.1357994</td><td>20.21377</td><td>1.0251042</td><td>-2.036232</td></tr>\n",
       "\t<tr><td>low     </td><td>19.55670</td><td>0.7748557</td><td>20.87755</td><td>1.0059015</td><td> 1.320850</td></tr>\n",
       "\t<tr><td>midrange</td><td>20.15882</td><td>0.7817561</td><td>21.49342</td><td>0.7477344</td><td> 1.334598</td></tr>\n",
       "</tbody>\n",
       "</table>\n"
      ],
      "text/latex": [
       "A tibble: 3 × 6\n",
       "\\begin{tabular}{llllll}\n",
       " wage\\_seg & mean\\_before & se\\_mean\\_before & mean\\_after & se\\_mean\\_after & change\\_mean\\_fte\\\\\n",
       " <chr> & <dbl> & <dbl> & <dbl> & <dbl> & <dbl>\\\\\n",
       "\\hline\n",
       "\t hight    & 22.25000 & 1.1357994 & 20.21377 & 1.0251042 & -2.036232\\\\\n",
       "\t low      & 19.55670 & 0.7748557 & 20.87755 & 1.0059015 &  1.320850\\\\\n",
       "\t midrange & 20.15882 & 0.7817561 & 21.49342 & 0.7477344 &  1.334598\\\\\n",
       "\\end{tabular}\n"
      ],
      "text/markdown": [
       "\n",
       "A tibble: 3 × 6\n",
       "\n",
       "| wage_seg &lt;chr&gt; | mean_before &lt;dbl&gt; | se_mean_before &lt;dbl&gt; | mean_after &lt;dbl&gt; | se_mean_after &lt;dbl&gt; | change_mean_fte &lt;dbl&gt; |\n",
       "|---|---|---|---|---|---|\n",
       "| hight    | 22.25000 | 1.1357994 | 20.21377 | 1.0251042 | -2.036232 |\n",
       "| low      | 19.55670 | 0.7748557 | 20.87755 | 1.0059015 |  1.320850 |\n",
       "| midrange | 20.15882 | 0.7817561 | 21.49342 | 0.7477344 |  1.334598 |\n",
       "\n"
      ],
      "text/plain": [
       "  wage_seg mean_before se_mean_before mean_after se_mean_after change_mean_fte\n",
       "1 hight    22.25000    1.1357994      20.21377   1.0251042     -2.036232      \n",
       "2 low      19.55670    0.7748557      20.87755   1.0059015      1.320850      \n",
       "3 midrange 20.15882    0.7817561      21.49342   0.7477344      1.334598      "
      ]
     },
     "metadata": {},
     "output_type": "display_data"
    }
   ],
   "source": [
    "test <- data %>% \n",
    "  filter(state == 1) %>% \n",
    "  filter(is.na(wage_seg) == FALSE) %>% \n",
    "  group_by(wage_seg) %>% \n",
    "  summarise(mean_before = mean(fte_before, na.rm=TRUE),\n",
    "            mean_after = mean(fte_after, na.rm=TRUE),\n",
    "            var_before = var(fte_before, na.rm=TRUE),\n",
    "            var_after = var(fte_after, na.rm=TRUE),\n",
    "            n_before = sum(!is.na(fte_before)),\n",
    "            n_after = sum(!is.na(fte_after))) %>%\n",
    "  mutate(se_mean_before = sqrt(var_before/n_before), \n",
    "         se_mean_after = sqrt(var_after/n_after), \n",
    "         change_mean_fte = mean_after - mean_before) %>% \n",
    "  select(wage_seg, \n",
    "         mean_before,\n",
    "         se_mean_before,\n",
    "         mean_after,\n",
    "         se_mean_after, \n",
    "         change_mean_fte) %>% \n",
    "  ungroup()\n",
    "\n",
    "test"
   ]
  },
  {
   "cell_type": "markdown",
   "metadata": {},
   "source": [
    "Cuarta fila, pero sin desvío estándar (ah lo aclaraba siempre)"
   ]
  },
  {
   "cell_type": "code",
   "execution_count": 16,
   "metadata": {
    "vscode": {
     "languageId": "r"
    }
   },
   "outputs": [
    {
     "data": {
      "text/html": [
       "<table class=\"dataframe\">\n",
       "<caption>A tibble: 3 × 2</caption>\n",
       "<thead>\n",
       "\t<tr><th scope=col>wage_seg</th><th scope=col>change_mean_fte_balanced</th></tr>\n",
       "\t<tr><th scope=col>&lt;chr&gt;</th><th scope=col>&lt;dbl&gt;</th></tr>\n",
       "</thead>\n",
       "<tbody>\n",
       "\t<tr><td>hight   </td><td>-2.1567164</td></tr>\n",
       "\t<tr><td>low     </td><td> 1.2047872</td></tr>\n",
       "\t<tr><td>midrange</td><td> 0.7098485</td></tr>\n",
       "</tbody>\n",
       "</table>\n"
      ],
      "text/latex": [
       "A tibble: 3 × 2\n",
       "\\begin{tabular}{ll}\n",
       " wage\\_seg & change\\_mean\\_fte\\_balanced\\\\\n",
       " <chr> & <dbl>\\\\\n",
       "\\hline\n",
       "\t hight    & -2.1567164\\\\\n",
       "\t low      &  1.2047872\\\\\n",
       "\t midrange &  0.7098485\\\\\n",
       "\\end{tabular}\n"
      ],
      "text/markdown": [
       "\n",
       "A tibble: 3 × 2\n",
       "\n",
       "| wage_seg &lt;chr&gt; | change_mean_fte_balanced &lt;dbl&gt; |\n",
       "|---|---|\n",
       "| hight    | -2.1567164 |\n",
       "| low      |  1.2047872 |\n",
       "| midrange |  0.7098485 |\n",
       "\n"
      ],
      "text/plain": [
       "  wage_seg change_mean_fte_balanced\n",
       "1 hight    -2.1567164              \n",
       "2 low       1.2047872              \n",
       "3 midrange  0.7098485              "
      ]
     },
     "metadata": {},
     "output_type": "display_data"
    }
   ],
   "source": [
    "test2 <- data %>% \n",
    "  filter(complete.cases(fte_before, fte_after)) %>% \n",
    "  filter(state == 1) %>%\n",
    "  filter(is.na(wage_seg) == FALSE) %>%\n",
    "  group_by(wage_seg) %>% \n",
    "  summarise(mean_before_balanced = mean(fte_before, na.rm = TRUE),\n",
    "            mean_after_balanced = mean(fte_after, na.rm = TRUE)) %>% \n",
    "  mutate(change_mean_fte_balanced = mean_after_balanced - mean_before_balanced) %>% \n",
    "  select(wage_seg, change_mean_fte_balanced) %>% \n",
    "  ungroup()\n",
    "\n",
    "test2"
   ]
  }
 ],
 "metadata": {
  "kernelspec": {
   "display_name": "R",
   "language": "R",
   "name": "ir"
  },
  "language_info": {
   "codemirror_mode": "r",
   "file_extension": ".r",
   "mimetype": "text/x-r-source",
   "name": "R",
   "pygments_lexer": "r",
   "version": "4.2.1"
  },
  "orig_nbformat": 4
 },
 "nbformat": 4,
 "nbformat_minor": 2
}
