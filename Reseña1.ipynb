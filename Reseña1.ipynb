{
 "cells": [
  {
   "cell_type": "markdown",
   "metadata": {},
   "source": [
    "<center> <h1> Conditional Cash Transfers, Adult Work Incentives, and Poverty </h1> </center>"
   ]
  },
  {
   "cell_type": "markdown",
   "metadata": {},
   "source": [
    "Estudia el impacto del programa PROGRESA que eran transferencias condicionadas en México de 1997 que tenía como objetivo reducir la pobreza.\n",
    "\n",
    "El programa no tiene un efecto sustancial sobre la participación en el mercado laboral en los adultos. \n",
    "\n",
    "En los niños se reduce la participación laboral, cosa que por supuesto es deseable. La disminución del trabajo infantil requiere un ajuste (una suba del trabajo adulto) a pesar del shock positivo al ingreso que provoca la transferencia condicionada. \n",
    "\n",
    "El ocio no se modifica en el agregado: los niños trabajan menos, las mujeres se encargan más del cuidado de los mismos así que dedican más tiempo al hogar, los hombres son los que compensan el trabajo. \n",
    "\n",
    "Autores concluten que PROGRESA es efectivo ya que no impacta sobre las decisiones de trabajo de los agentes y logra reducir sustancialmente la pobreza. \n",
    "\n",
    "##### Implementación \n",
    "\n",
    "El programa se basó en otorgar transferencias condicionadas al cumplimiento de determinadas medidas vinculadas a la educación, la salud y la alimentación. El monto fina lse otorgaba a la madre de familia. Adicionalmente, los beneficiarios deben considerar los costors indirectos que surgen como consecuencia de la afiliación al porgrama, que son el tiempo que debe ser dedicado a llevar a los niños al colegio, a los centros de salud, la asistencia a charlas y hacer filas para recibir los beneficios. \n",
    "\n",
    "Utilizó asignaciones aleatorias para los grupos de tratamiento yde control que se aplicaron a nivel de la localidad, y no a nivel de los hogares o individuos, con el objetivo de que sea una alesatorización efectiva y que no hatan efectos de derrame que puedan sesgar las estimaciones. La asignación aleatoria puede solucionar el \"missing data problem\" que se genera dado a que cuando una persona participa del programa no se puede saber qué hubiese pasado si no hubiese participado. Una asiganción aleatoria puede lograr un contrafactual correcto que evite el sesgo de selección. \n",
    "\n",
    "En progresa no se encontraron diferencias sistemáticas en las características de los grupos de tratamiento y de control, pero sí se econtraron diferencias a nivel de los hogares y de los individuos que son explicadas por el gran tamaño de las muestras, lo cual no es relevante para el proposito del trabajo. \n",
    "\n",
    "El hecho de que los individuos asignados al tratamiento abandonen genera fueres sesgos debido a que se distorsiona la comparación entre tratados y no tratados (ATE) y se transforma a una entre asignados y no asignados (ITT). Si bien hubo 487 personas que decidieron no tratarse, los autores consideran que no es un número relevante. No hubo problemas de attrition. No hay derrame porque el programa se hizo por localidades. \n",
    "\n",
    "##### Metodología\n",
    "\n",
    "Se utilizaron Diferencias en Diferencias para medir el impacto de progresa en la participación del mercado laboral de hombres, mujeres y niños. El cambio detectado en el grupo de control será explicado en parte por el impacto de los factores externos que deben ser neteados a la hora de considerar el efecto de la implementación de una política. Además, el estimador de diferencias en diferencias elimina cualquier tipo de heterogeneidad fija no observada entre ambos grupos, es decir, cualquier tipo de diferencia entre ambos grupos ya existente previo a la implementación del programa. \n",
    "\n",
    "En DD si hay algún patrón en las personas que deciden no tratarse se va a obtener el ITT. \n",
    "\n"
   ]
  }
 ],
 "metadata": {
  "kernelspec": {
   "display_name": "Python 3.8.10 64-bit",
   "language": "python",
   "name": "python3"
  },
  "language_info": {
   "name": "python",
   "version": "3.8.10"
  },
  "orig_nbformat": 4,
  "vscode": {
   "interpreter": {
    "hash": "916dbcbb3f70747c44a77c7bcd40155683ae19c65e1c03b4aa3499c5328201f1"
   }
  }
 },
 "nbformat": 4,
 "nbformat_minor": 2
}
