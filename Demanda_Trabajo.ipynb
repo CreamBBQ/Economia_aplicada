{
 "cells": [
  {
   "cell_type": "markdown",
   "metadata": {},
   "source": [
    "<center> <h1> DEMANDA DE TRABAJO </h1> <center>"
   ]
  },
  {
   "cell_type": "markdown",
   "metadata": {},
   "source": [
    "Comparada con otros países Argentina tiene una evolución de la relación trabajo y el capital muy volátil. Por otro lado, la diferencia entre salarios calificados y no calidicados aumentó desde los 80 en los países desarrollados. En el estudio de la demanda de trabajo se incluye: elección entre factores de producción, sustitución entre capital y trabajo, sustitución entre diferentes tipos de trabajo, estimaciones de elasticidad de la demanda de trabajo con respecto al costo de los insumos. "
   ]
  },
  {
   "cell_type": "markdown",
   "metadata": {},
   "source": [
    "El poder de mercado de una empresa se mide por la elasticidad de los precios con respecto a la producción de la empresa (Y es la producción de la empresa y la función de demanda es la que enfrenta la firma): \n",
    "\n",
    "$\\eta_Y^P = \\dfrac{YP'(Y)}{P(Y)}$ \n",
    "\n",
    "- P(Y) es la función de demanda inversa de la firma \n",
    "- $\\eta_Y^P = 0$ caracteriza el caso de competencia perfecta \n",
    "- $\\eta_Y^P < 0$ caracteriza el caso de competencia imperfecta \n",
    "- $|\\eta_Y^P |$ representa el poder de mercado de la empresa \n",
    "- a mayor $\\eta_Y^P$ mayores serán los efectos sobre el precio de mercado de un cambio en el nivel de producción \n",
    "- Asumiremos demandan isoelástica (elasticidad constante para cualquier nivel de Y) \n",
    "\n",
    "El único factor de producción agregado flexible en el corto plazo es el empleo, L. Otros factores son considerados como rígidos (en esta parte no consideramos los costos fijos)\n",
    "\n",
    "El beneficio de la empresa es: \n",
    "\n",
    "$ \\Pi(L) = P(Y)Y -WL $ \n",
    "\n",
    "Notar: $ Y = F(L), F'(L) \\geq 0, F''(L) \\leq 0, P'(Y) \\leq 0$\n",
    "\n",
    "La condición de primer orden es entonces: \n",
    "\n",
    "$ F'(L)[P(Y) + P'(Y)Y] - W = 0 $\n",
    "\n",
    "$ F'(L)P(Y)\\left[1 + \\dfrac{YP'(Y)}{P(Y)}\\right] = W$\n",
    "\n",
    "$ F'(L)P(Y)(1+\\eta_Y^P) = W $ \n",
    "\n",
    "Usando la CPO, la demanda de trabajo se caracteriza por: \n",
    "\n",
    "$F'(L) = v \\dfrac{W}{P} $\n",
    "\n",
    "Con $v = \\dfrac{1}{1+\\eta_Y^P}$\n",
    "\n",
    "Notar que si no hubiera poder de mercado la productividad marginal del trabajo debe ser igual al salario real. \n",
    "\n",
    "![](https://i.imgur.com/R1pRDU7.png)\n",
    "\n",
    "**Muy relevante**: si estuviera en la posición en que la productividad marginal del trabajo debe ser igual al salario real, un aumento en el salario mínimo causaría una disminución del empleo directamente. Ahora, con esta nueva forma donde existe poder de mercado, hay dos mecanismos que se contraponen: una suba del salario mínimo lleva la curva negra a la izquierda (para cada valor de L la curva es más alta) lo que sugiere una baja en el empleo, no obstante, al tener menos empleados produzco menos lo que lleva necesariamente a una suba de los precios (porque tengo poder de mercado) desembocando así en un cambio más liviano que si no tuviera poder de mercado (la demanda de trabajo reacciona de manera menos fuerte).\n"
   ]
  },
  {
   "cell_type": "markdown",
   "metadata": {},
   "source": [
    "##### Largo plazo \n",
    "\n",
    "En el largo plazo, el capital K puede ser un factor flexible. En la primera etapa, el nivel de producción se toma como dado y se busca la combinación óptima de capital y trabajo que logra el mínimo costo. En la segunda etapa, buscamos la cantidad óptima de porducción con el fin de maximizar los beneficios de la empresa. \n",
    "\n",
    "Analizamos efectos de sustitución y efectos de escala y luego describimos algunas propiedades de la demandas de factores condicionada e incondicional. \n",
    "\n",
    "1. Efectos de sustitución se refieren a la elección de una factor sobre otro con el fin de alcanzar un nivel dado de producción \n",
    "\n",
    "2. Los efectos de escala tienen que ver con la capacidad de alterar el nivel de producción al tiempo que conserva las mismas porporciones entre los distintos factores. \n",
    "\n",
    "![](https://i.imgur.com/34JukE0.png)"
   ]
  },
  {
   "cell_type": "markdown",
   "metadata": {},
   "source": []
  }
 ],
 "metadata": {
  "kernelspec": {
   "display_name": "Python 3.8.10 64-bit",
   "language": "python",
   "name": "python3"
  },
  "language_info": {
   "name": "python",
   "version": "3.8.10"
  },
  "orig_nbformat": 4,
  "vscode": {
   "interpreter": {
    "hash": "916dbcbb3f70747c44a77c7bcd40155683ae19c65e1c03b4aa3499c5328201f1"
   }
  }
 },
 "nbformat": 4,
 "nbformat_minor": 2
}
