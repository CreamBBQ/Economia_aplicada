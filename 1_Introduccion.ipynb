{
 "cells": [
  {
   "cell_type": "markdown",
   "metadata": {},
   "source": [
    "<center> <h1> INTRODUCCIÓN </h1> </center>\n",
    "\n",
    "Pregunta empírica: ¿Aumenta el ingreso con un título universitario? \n",
    "\n",
    "Una variable relevante de resultado, y, es el salario o el ingreso. Una característica es el nivel edicativo, $x_1$ pero también otra serie de cactertísticas del individuo que pueden afectar al ingreso más allá de la educación, $x_2, x_3, \\cdots$ que pueden ser observables y una serie de inobservables que se resumen en la variable u. \n",
    "\n",
    "Descripción: una primera forma de explorar esta pregunta es hacer una descripción de estas variables y de sus relaciones. \n",
    "\n",
    "Supongamos que x es una variable aleatoria. El valor $x_j$ es una realicación de x. \n",
    "\n",
    "- La distribución de esta variable está caracterizada por la función de distribución acumulada: $F(x_0)=P(x \\leq x_0)$ que mide la probabilidad de que la realización de x sea menor o igual al valor $x_0$ \n",
    "\n",
    "- Si la variable aleatoria es deicreta, esta función de distribución se puede describir con la fucnión de probablidad $f(x_0)=P(x = x_0)$  \n",
    "\n",
    "- Si la variable aleatoria es continua entonces: $F_x(b)-F_x(a)= \\int_{a}^{b} f(x) dx$ y en los puntos derivables, la derivada de la distribución acumulada es la densidad: f_x(x)=\\frac{dF(x)}{x}\n",
    "\n",
    "- La esperanza (o media) de una variable discreta es: $E[x]=\\sum_j x_j f_X(x_j)$ donde $f_X(x_j) es la función de probabilidad \n",
    "\n",
    "- La esperanza de una variable continua es: $E[x] = \\int_{- \\infty}^{\\infty} x f_X(x) dx$ o tambińe puede escribirse como: $E[x] = \\int_{- \\infty}^{\\infty} xdF_X dx$\n",
    "\n",
    "- La esperanza es la mejor predicción de x (minima el error cuadrática medio)\n",
    "\n",
    "- En la muestra se computa un promedio: $\\overline{x} = \\frac{1}{n}\\sum_i x_i$\n",
    "\n",
    "- La EPH tiene ponderadores; es necesario ponderar cada observación. Para esto, en STATA se usa, por ejemplo: mean p47 [pw = pondera]. Pondera dice cauntos hogares representa esa muestra en particular (una casa puede representar 120 hogares tecnicamente iguales)\n",
    "\n",
    "-La carianza de una variable discreta es: $V[x] = \\sum_j (x_j - E[x])^2f_X(x_j)$\n",
    "\n",
    "-La varianza de una variable continua es: $V[x] = \\int_{- \\infty}^{\\infty} (x_j - E[x])^2f_X(x_j)dx$\n",
    "\n",
    "- Skewness (asimetría): $S(x) = \\frac{1}{\\sigma(x)^3} \\sum_j (x_j - E[x])^3f_X(x_j)$ \n",
    "\n",
    "- Cuortosis (forma): $K(x) = \\frac{1}{\\sigma(x)^4} \\sum_j (x_j - E[x])^4f_X(x_j)$ \n"
   ]
  },
  {
   "cell_type": "markdown",
   "metadata": {},
   "source": [
    "Si x e y son dos variables aleatorias no solo se puede caracterizar cada una sino también su distribución conjunta: \n",
    "\n",
    "- $Cov(x,y) = E[(x-E[x])(y-E[y])] $\n",
    "\n",
    "- $corr(x,y) = \\dfrac{Cov(x,y)}{\\sigma(x) \\sigma(y)}$\n",
    "\n",
    "- Una propiedad importante: $V[a + bx + cy] = b^2V[x] + c^2 V[y] + 2bc Cov(x,y)$"
   ]
  },
  {
   "cell_type": "markdown",
   "metadata": {},
   "source": [
    " Cuando tenemos dos variables también podemos computar una media condicional (la mejor predicción de y si conocemos x). Supongamos que x es discreta:\n",
    " \n",
    "  $E[y | x = x_j] = \\displaystyle \\int_{- \\infty}^{\\infty} y f_{Y|x_j}(y|x_J) dy$\n",
    "\n",
    "  Donde $f_{Y|x_j}(y|x_J) = \\dfrac{f_{X,Y}(x_j, y )}{f_X(x_j)}$\n",
    "\n",
    "  En una muestra es el promedio pero restringiego la muestra a todas las observaciones con $x = x_j$. En estata seria sum ling if nivel.ed==5 [fw=pondera], la distribución del ingreso por educación (para los graduados universitarios). Cuando la variable x es continua el concepto es indétinco pero en la implementación en una muestra se usan otros métodos (que veremos más adelante)\n",
    "\n",
    "  Dos variables y, x son independientes en media si: $E[y] = E[y|x]$ \n",
    "\n",
    "  Dos variables independientes (ortogonales) en media serán incorrelaciondas $Cov(x,y)=0$, pero no es cierto que incorrelación suponga independencia. Existe también la independencia condicional, por ejemplo, salario y conciencia ambiental están correlacionados. Sin embargo, la relación es porque los más educados tienen mayor conciencia ambiental y más salarios. COntrolando por educación, estas dos variables no correlacional (salarios y conciencia ambiental son independites condicional en educación)"
   ]
  },
  {
   "cell_type": "markdown",
   "metadata": {},
   "source": [
    "##### Regresión: \n",
    "\n",
    "La función de esperanza condionada puede ser lineal. Supongamos que es el caso y que podemos escribir: $ y = a + bx + u$, donde a y b son parámetros y u es una variable aleatoria. Entonces, \n",
    "\n",
    "$E[y | x] = E[a + bx + u|x] = a + bx + E[u|x]$ \n",
    "\n",
    "Cuando $E[u|x]$ entonces el CEF (conditional expectation function) es lineal \n",
    "\n",
    "Definamos la regresión en la población como la solución de la minimización de cuadrados: \n",
    "\n",
    "$\\beta = arg \\min_b E[(y-X'b)^2]$ \n",
    "\n",
    "Donde \\beta es kx1 y X es un vector kx1. La solución considerando muchas variables en la matriz X es: \n",
    "\n",
    "$\\beta = E[(XX')^{-1}]E[(Xy)^{-1}]$ \n",
    "\n",
    "Para una única variable (y una constante) la pendiente será: \n",
    "\n",
    "$\\beta =   \\dfrac{Cov(x,y)}{V[X]}$\n",
    "\n",
    "Dos características de la regresión vinculadas directamente con la función de esperanzas condicionadas: \n",
    "\n",
    "- Si la función de esperazan condicionada es lineal, una regresión recupera la función \n",
    "\n",
    "- Si la función de esperanza condicionada no es lineal, una regresión nos brinda la mejor aproximación lineal a esa función \n"
   ]
  },
  {
   "cell_type": "markdown",
   "metadata": {},
   "source": [
    "##### Relación causal \n",
    "\n",
    "Una segunda pregunta, mucho más avanzada y difíciil, es la de la relación causal entre las variables de interés (salarios y educación, por ejemplo). ¿Qué relaciones u objetos son de interés? En general el objeto de interés es: \n",
    "\n",
    "$ \\dfrac{\\partial E[y|X]}{\\partial x_1} $\n",
    "\n",
    "(si $x_1$ es una variable continuad) es decir cuánto aumenta el resultado cuando cambia un input, solo uno, dejando constante todas las demás variables, incluso inobservables (en el ejemplo, cuánto aumenta el salario cuando aumenta la educación). Este efecto puede ser medido según las medias condicionadas o según una regresión. "
   ]
  },
  {
   "cell_type": "markdown",
   "metadata": {},
   "source": [
    "##### Problema de variables omitidas \n",
    "\n",
    "Sin embargo, el resultado de una regresión lineal no necesariamente será un efecto causal. Consideremos $E[y|x_1]$. Una de las formas de aproximarnos al objeto de interés es considerar la media de los salarios según años de educación o también por nivel educativo (universitario incompleto, universitario completo). Por ejemplo $\\hat{\\beta_1} = E[y|x_1 = UC] - E[y|x_1 = UI]$. Sin embargo, si y depende de muchas otras variables, por ejemplo $x_2$ (educación del padre). y $x_2$ cambia con la educación (la educación de un individuo se correlaciona con la educación de la generación anterior) entonces no vamos a estar aproximándoso correctamente al objeto de interés. Lo importante es que la derivabda de interés debe responder a la preguntra de: ¿cuál será el salario si un individuo pasa de no estudiar la universidad a terminar una carrera? Si todo el mayor salario de un individuo universitario viene porque su padre es universitario y esto le genera más concactos y oportunidades laborales entonces en realidad conviene que solo los individuos con padres universitarios estudien. \n",
    "\n",
    "Matemáticamente supongamos: \n",
    "\n",
    "$y = g(x_1, x_2)$ \n",
    "\n",
    "Donde $x_2$ es una función de $x_1$, de forma tal que $x_2 = x_2(x_1)$. Entonces, \n",
    "\n",
    "$\\dfrac{dy}{dx_1} = \\dfrac{\\partial g(x_1, x_2)}{\\partial x_1} + \\dfrac{\\partial g(x_1, x_2)}{\\partial x_2} \\dfrac{\\partial x_2} {\\partial x_1} $\n",
    "\n",
    "En este caso, el efecto total de $x_1$ es $\\frac{dy}{dx_1}, e inclye el efecto de $x_1$ a través de $x_2$. Pero nos interesa solo el primer término $\\frac{\\partial g(x_1, x_2)}{\\partial x_2}$, dejando fijo el valor de $x_2$. \n",
    "\n",
    "En palabras simples el problema es el siguiente: si muevo el nivel educativo y solo se mueve esa variable está todo bien. Pero si al mover el nivel educativo sube también el nivel del padre la regresión no devuelve el coeficiente que me gustaria. \n",
    "\n",
    "Si observo las dos variables que tienen conflicto (si tengo datos de educación de la persona y de sus padres). Podría condicionar tanto en $x_1$ y $x_2$ y la derivada sería el resultado esperado. "
   ]
  },
  {
   "cell_type": "markdown",
   "metadata": {},
   "source": [
    "##### Sesgo \n",
    "\n",
    "El sesgo de un estimador es la diferencia entre su valor esperado y el valor verdadero del parámetro de interés. Un ejemplo básico: \n",
    "\n",
    "- Supongamos una población determinada (los encuentados en nuestra EPH con ingresos positivos) y un parámetro de interés (le media de los ingresos individuales): $\\mu = E[ln(y)]$\n",
    "\n",
    "- Consideremos un estimador qeu es función de los datos de una muestra de tamaño n del universo: $\\hat{\\mu}= ln(\\frac{1}{n}\\sum_i x_i)$\n",
    "\n",
    "El sesgo será $E[\\hat{\\mu}] - \\mu$. En este caso,, el sesgo es postivo: se tenderá a sobre-estimar el parámetro. \n",
    "\n",
    "Podriamos preguntarnos entonces que tiene que ocurrir para que el coeficiente de la regresión sea el efecto marginal: \n",
    "\n",
    "- Los inobservables deben ser independientes de la variable $x_1$, es decir, $E[u|x]=0$\n",
    "- Los inobservables son independientes e idénticamente distribuidos. "
   ]
  }
 ],
 "metadata": {
  "kernelspec": {
   "display_name": "Python 3.8.10 64-bit",
   "language": "python",
   "name": "python3"
  },
  "language_info": {
   "codemirror_mode": "r",
   "file_extension": ".r",
   "mimetype": "text/x-r-source",
   "name": "python",
   "pygments_lexer": "r",
   "version": "3.8.10"
  },
  "orig_nbformat": 4,
  "vscode": {
   "interpreter": {
    "hash": "916dbcbb3f70747c44a77c7bcd40155683ae19c65e1c03b4aa3499c5328201f1"
   }
  }
 },
 "nbformat": 4,
 "nbformat_minor": 2
}
