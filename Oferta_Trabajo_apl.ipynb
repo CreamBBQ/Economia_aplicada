{
 "cells": [
  {
   "cell_type": "markdown",
   "metadata": {},
   "source": [
    "<center> <H1> APLICACIONES: OFERTA DE TRABAJO </h1> <center>"
   ]
  },
  {
   "cell_type": "markdown",
   "metadata": {},
   "source": [
    "El análisis económico vinculado a la ofera de trabajo sugiere que: \n",
    "\n",
    "- Aumentos de salarios generan efecto ingreso y sustitución \n",
    "- Una transferencia (no condicionada en ingreso laboral) afectará la oferta de trabajo por efecto ingreso\n",
    "- Una transferencia condicionada al empleo o ingreso laboral tendrá potencialmente un efecto sustitución \n",
    "\n",
    "¿Cuán importante es el efecto ingreso y el sustitución? Crucial para políticas de ingresos \n",
    "\n",
    "Pregunta empírica: cuál es el efecto de las transferencias condicionadas sobre la decisión de inserción laboral del hogar \n",
    "\n",
    "Método: utilizar asignaciones aleatorias de programas públicos de transferencias condicionadas para estimar el efecto. \n",
    "\n",
    "Paper: Banerjee, Hanna, Kreindler, Olken (2016) “Debunking the\n",
    "stereotype of the lazy welfare recipients: evidence from cash\n",
    "transfer programs”, Working Papers 308, Center for International\n",
    "Development at Harvard University.\n",
    "\n",
    "##### Resultados \n",
    "\n",
    "Si bien el trabajo en el mercado laboral disminuye, nunca es significativo, es decir, el efecto ingreso puro no parece afectar a los pobres en su decisión laboral para los montos analizados. Los programas de transferencias de ingresos entonces pueden reducir la pobreza. \n",
    "\n",
    "Fijemonos que las transferencias son condicionadas a que los hijos vayan a la escuela y gocen de un sistema de salud. Esto, aunque parece menor, en un modelo más amplio puede afectar la reasignación del tiempo entre trabajo del hogar y trabajo en el mercado de parte de los agentes. \n",
    "\n",
    "La regresión que se utlizó es: \n",
    "\n",
    "$ y_{ic} = \\beta Treat_c + \\gamma X_{ic} + \\mu_s + \\epsilon_{ic} $\n",
    "\n",
    "Donde c indentifica la localidad, Treat es la variable binaria que idéntifica si la localidad está en tratamiento o no. X son los controles y $\\mu$ son efectos fijos por grupos específicos. \n",
    "\n",
    "##### Argentina \n",
    "\n",
    "La AUH tiene diferencias de diseño con respecto a estos programas. Si la persona que recibe consigue un empleo formal se acaba la asignación así que el margen de decisión es más fuerte: el costo de oportunidad de conseguir un empleo formal es alto. Los beneficiaron cobran $7300 aproximadamente por hijo, tener en cuenta. "
   ]
  }
 ],
 "metadata": {
  "kernelspec": {
   "display_name": "Python 3.8.10 64-bit",
   "language": "python",
   "name": "python3"
  },
  "language_info": {
   "name": "python",
   "version": "3.8.10"
  },
  "orig_nbformat": 4,
  "vscode": {
   "interpreter": {
    "hash": "916dbcbb3f70747c44a77c7bcd40155683ae19c65e1c03b4aa3499c5328201f1"
   }
  }
 },
 "nbformat": 4,
 "nbformat_minor": 2
}
