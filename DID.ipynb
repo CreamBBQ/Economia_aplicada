{
 "cells": [
  {
   "cell_type": "markdown",
   "metadata": {},
   "source": [
    "<center> <h1> DIFERENCIAS EN DIFERENCIAS </h1> <center>"
   ]
  },
  {
   "cell_type": "markdown",
   "metadata": {},
   "source": [
    "La comparación de asignación aleatoria es: \n",
    "\n",
    "$\\hat{\\alpha}^{ATE} = \\overline{y_{t1}^1} - \\overline{y_{t1}^0}$\n",
    "\n",
    "donde $\\overline{y_{t1}^j}$ es la media de la variable resultado para el periodo post-tratamiento ($t_1$) para tratados, j = 1, y no tratados, j = 0. \n",
    "\n",
    "Se asume que, en ausencia de tratamiento, ambos grupos tendrían el mismo resultado. Una forma indirecta de testear este supuesto es analizando el balance entre observables. Otra forma más directa de testear esto es calcular $\\overline{y_{t0}^1} - \\overline{y_{t0}^0}$ (las medias antes del tratamiento). Si antes del tratamiento hay diferencias entre los grupos, una medida más razonable del efecto será: \n",
    "\n",
    "$ \\hat{\\alpha}^{DD} = [\\overline{y_{t1}^1} - \\overline{y_{t0}^1}] - [\\overline{y_{t1}^0} - \\overline{y_{t0}^0}]  =  \\hat{\\alpha}^{ATT}$\n",
    "\n",
    "Idea: supongamos que yo tengo un tratamiento en un lugar y lo único que hago que es comparar antes vs después, esa diferencia no tiene porque ser solo por el tratamiento porque muchas otras cosas pueden haber pasado en el medio (recesión, devaluación, etc.). La comparación antes vs después deja afuera todo esto. Lo que hacemos ahora es tener otro grupo que potencialmente se ve afectado por los mismos shocks que no están en manos del investigador pero que no haya tenido tratamiento, ese grupo entonces estará netenado los efectos que no son del tratamiento. El estimador DD captura entonces, en una situación ideal, solo el efecto del tratamiento. \n",
    "\n",
    "Los experimentos naturales utilizan asignaciones al tratamiento que surgen naturalmente. Algunas de estas asignaciones son aleatorias (p.e el servicio militar en Argentina). En otros casos la asignación no es aleatoria per śi es exógena (no correlacionada con las variables de resultado. Un caso típico: por razones políticas un porgrama se implementa en una provincia y no en otra similar). En algunas de estas asignaciones es posible que no se cumpla un balance en observables y que sin tratamiento (o antes del tratamiento) ambos grupos sean distintos. Una forma de ecaluar el impacto es medir ambos grupos antes y después del tratamiento y comprar los resultados entre grupos (medir los cambios en cada grupo, y luego la diferencia del cambio entre grupos. Nos preguntamos cuál grupo cambió más). Para esto, debe haber información antes del tratamiento y después del tratamiento. \n",
    "\n",
    "Resumiendo, la idea de diferencias en diferencias es la de considerar a los no tratados (auqellos que no están afectados por el cambio de política) como control y computar también el cambio antes-después de ese grupo. Este cambio es el que tomaremos como aproximacón de los \"otros factores\" (tendencia, factores macro). **La diferencia entre los cambios es entonces el estimador de diferencias en diferencias**. \n",
    "\n",
    "El principal supuesto del estimador de diferencias en diferencias es que las unidades tratadas y no tratados son afectadas por factores externos de igual manera. Este se denomina supuesto de tendencia común. Por ejemplo, este supuseto se cumpliría si hubiera dos grupos, tratamiento y control, no necesariamente iguales, pero estre ellos la variable resultado se mueve de manera similar en el tiempo. Graficamente: \n",
    "\n",
    "![](https://i.imgur.com/D5zt6SB.png)\n",
    "\n"
   ]
  },
  {
   "cell_type": "markdown",
   "metadata": {},
   "source": [
    "El mismo estimador se encuentra por medio de una regresión: \n",
    "\n",
    "$ y_{it} = \\beta_0 + \\beta_1 d_i + \\beta_2 t_t + \\beta_3 d_i t_t + \\epsilon_{it} $ \n",
    "\n",
    "$ \\hat{\\alpha}^{DD} = \\hat{\\alpha}^{ATT} = \\hat{\\beta_3} $\n",
    "\n",
    "Donde $t_t$ es una variable indicadora que toma valor 1 para los períodos post-tratamiento (tanto para tratados como para no tratados), y donde se asume que $E[\\epsilon | d, t] = 0$ \n",
    "\n",
    "El procedimiento de diferencias en diferencias tiene algunos problemas o debilidades. Algunos son similares a los que ya consideramos para asignación aleatoria: \n",
    "\n",
    "1. El grupo de tratamiento podría estar afectado por la decisión de no tratarse. Supongamos que consideramos una política de capacitación. Podría ser que el asignado a tratamiento cuando debería tratarse decide no hacerlo. En este caso, se trata de un tratamiento endógeno (los que deciden no tratarse serán probablemente los que tengas menos retorno a la capacitación). Sería erróneo, en ese caso, usar diferencias en diferencias comprarando tratados y no tratados. Debería usarse la asignación inicial al tratamiento e interpretar el resultado como intention to treat (ITT). \n",
    "\n",
    "2. El grupo de tratamiento puede estar afectado por drop-out, por el abandono, o más en general, por cambios en la composición o attrition. Esto es igual que en asignación aleatoria: si el abandono o attrition está basado en decisiones entonces el estimador DD podría estar sesgado. En la práctica debe seguirse a todos para tener información de todos los que fueron asignados al tratamiento. \n",
    "\n",
    "3. El supuesto esencial de DD es el de tendencia común. Shocks inobservables por unidade de tratamiento (por ejemplo, shocks distintos entre regiones) hacen que el estimador DD sea inadecuado. Además, si las características no están balanceadas, o si son dos lugares diferentes ¿por qué suponner una tendencia común? Es un supuesto que no es posible testear si solo hay dos periodos. Se puede testear el supuesto de tendencia común si hay una serie de tiempo (aunque sea con variables o resultados agregados). \n",
    "\n",
    "4. Se puede utilizar DD tanto con datos de corte transversal (repetidos en dos momento del tiempo) o con datos longitudinales (panel) en donde cada individuo tiene dos observaciones (antes-despues). La implementación podría variar: a) para corte tranversal conviene que las características (observables explicativas de y) no hayan variado entre ambos períodos. b) con datos de panel suele ser conveniente incluir efectos fijos por individuo \n",
    "\n",
    "5. Controlar por observables: a) controlar por observables no es recomendable si el observable puede estar correlacionado con el tratamiento b) puede tener sentido controlar por observables (variables predeterminadas) si se trata de datos de corte transversal \n",
    "\n",
    "6. Ojo con las unidades. Si comparamos dos grupos que tienen niveles muy diferentes de las variables y los cambios son proporcionales podríamos tener conclusiones erroneas. \n",
    "\n",
    "7. Timing de los efectos. Algunos efectos pueden darse inmediatamente, pero otros con fuertes rezagos (efectos de cambios en educación). Esto introduce el problema de cuándo medir el resultado: muy pronto no hay resultados, muy lejos en el tiempo más afectado por problemas como attrition, composición, etc. \n",
    "\n",
    "8. Cuidado con los errores estándar. Cuando hay correlación en los errores por estado puede haber una subestimación fuerte de los errores estándar. Puede usarse el test exacto de Fisher. "
   ]
  }
 ],
 "metadata": {
  "kernelspec": {
   "display_name": "Python 3.8.10 64-bit",
   "language": "python",
   "name": "python3"
  },
  "language_info": {
   "name": "python",
   "version": "3.8.10"
  },
  "orig_nbformat": 4,
  "vscode": {
   "interpreter": {
    "hash": "916dbcbb3f70747c44a77c7bcd40155683ae19c65e1c03b4aa3499c5328201f1"
   }
  }
 },
 "nbformat": 4,
 "nbformat_minor": 2
}
